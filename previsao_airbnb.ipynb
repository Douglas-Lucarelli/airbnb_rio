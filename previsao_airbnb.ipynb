{
  "cells": [
    {
      "cell_type": "markdown",
      "id": "786ed00b",
      "metadata": {},
      "source": [
        "# Projeto Airbnb Rio - Ferramenta de Previsão de Preço de Imóvel para pessoas comuns "
      ]
    },
    {
      "cell_type": "markdown",
      "id": "d9a7758e",
      "metadata": {},
      "source": [
        "### Contexto\n",
        "\n",
        "No Airbnb, qualquer pessoa que tenha um quarto ou um imóvel de qualquer tipo (apartamento, casa, chalé, pousada, etc.) pode ofertar o seu imóvel para ser alugado por diária.\n",
        "\n",
        "Você cria o seu perfil de host (pessoa que disponibiliza um imóvel para aluguel por diária) e cria o anúncio do seu imóvel.\n",
        "\n",
        "Nesse anúncio, o host deve descrever as características do imóvel da forma mais completa possível, de forma a ajudar os locadores/viajantes a escolherem o melhor imóvel para eles (de forma a tornar o seu anúncio mais atrativo)\n",
        "\n",
        "Existem dezenas de personalizações possíveis no seu anúncio, desde quantidade mínima de diária, preço, quantidade de quartos, até regras de cancelamento, taxa extra para hóspedes extras, exigência de verificação de identidade do locador, etc.\n",
        "\n",
        "### Objetivo\n",
        "\n",
        "Construir um modelo de previsão de preço que permita uma pessoa comum que possui um imóvel possa saber quanto deve cobrar pela diária do seu imóvel.\n",
        "\n",
        "Ou ainda, para o locador comum, dado o imóvel que ele está buscando, ajudar a saber se aquele imóvel está com preço atrativo (abaixo da média para imóveis com as mesmas características) ou não.\n",
        "\n",
        "### O que temos disponível, inspirações e créditos\n",
        "\n",
        "As bases de dados foram retiradas do site kaggle: https://www.kaggle.com/allanbruno/airbnb-rio-de-janeiro\n",
        "\n",
        "- As bases de dados são os preços dos imóveis obtidos e suas respectivas características em cada mês.\n",
        "- Os preços são dados em reais (R$)\n",
        "- Temos bases de abril de 2018 a maio de 2020, com exceção de junho de 2018 que não possui base de dados\n",
        "\n",
        "### Expectativas Iniciais\n",
        "\n",
        "- Acredito que a sazonalidade pode ser um fator importante, visto que meses como dezembro costumam ser bem caros no RJ\n",
        "- A localização do imóvel deve fazer muita diferença no preço, já que no Rio de Janeiro a localização pode mudar completamente as características do lugar (segurança, beleza natural, pontos turísticos)\n",
        "- Adicionais/Comodidades podem ter um impacto significativo, visto que temos muitos prédios e casas antigos no Rio de Janeiro\n",
        "\n",
        "Vamos descobrir o quanto esses fatores impactam e se temos outros fatores não tão intuitivos que são extremamente importantes."
      ]
    },
    {
      "cell_type": "markdown",
      "id": "e04ac051",
      "metadata": {},
      "source": [
        "## Instalação das Bibliotecas"
      ]
    },
    {
      "cell_type": "code",
      "execution_count": null,
      "id": "aea8fb6c",
      "metadata": {},
      "outputs": [],
      "source": [
        "%pip install matplotlib pandas numpy seaborn scikit-learn statsmodels plotly"
      ]
    },
    {
      "cell_type": "markdown",
      "id": "5a6dd20f",
      "metadata": {},
      "source": [
        "### Importar Bibliotecas e Bases de Dados"
      ]
    },
    {
      "cell_type": "code",
      "execution_count": null,
      "id": "72faea73",
      "metadata": {},
      "outputs": [],
      "source": [
        "import pandas as pd\n",
        "import pathlib\n",
        "import numpy as np\n",
        "import seaborn as sns\n",
        "import matplotlib.pyplot as plt\n",
        "import plotly.express as px\n",
        "from sklearn.metrics import r2_score, mean_squared_error\n",
        "from sklearn.linear_model import LinearRegression\n",
        "from sklearn.ensemble import RandomForestRegressor, ExtraTreesRegressor\n",
        "from sklearn.model_selection import train_test_split"
      ]
    },
    {
      "cell_type": "markdown",
      "id": "037b2d7e",
      "metadata": {},
      "source": [
        "### Consolidação da Base de Dados"
      ]
    },
    {
      "cell_type": "markdown",
      "id": "3dbf8e9c",
      "metadata": {},
      "source": [
        "Este código combina múltiplos arquivos CSV de dados do Airbnb em um único DataFrame, adicionando informações de mês e ano extraídas dos nomes dos arquivos."
      ]
    },
    {
      "cell_type": "code",
      "execution_count": null,
      "id": "508a0f04",
      "metadata": {},
      "outputs": [],
      "source": [
        "meses = {'jan': 1, 'fev': 2, 'mar': 3, 'abr': 4, \"mai\": 5, 'jun': 6, 'jul': 7, 'ago': 8, 'set': 9, 'out': 10, 'nov': 11, 'dez': 12}\n",
        "\n",
        "caminho_bases = pathlib.Path('dataset')\n",
        "\n",
        "base_airbnb = pd.DataFrame()\n",
        "\n",
        "for arquivo in caminho_bases.iterdir(): \n",
        "    nome_mes = arquivo.name[:3]\n",
        "    mes = meses[nome_mes]\n",
        "\n",
        "    ano = arquivo.name[-8:]\n",
        "    ano = int(ano.replace('.csv', ''))\n",
        "\n",
        "    df = pd.read_csv(caminho_bases / arquivo.name)\n",
        "    df['ano'] = ano\n",
        "    df['mes'] = mes\n",
        "    base_airbnb = pd.concat([base_airbnb, df])\n",
        "    df2 = base_airbnb.copy()\n",
        "\n",
        "display(base_airbnb)"
      ]
    },
    {
      "cell_type": "markdown",
      "id": "91c056dd",
      "metadata": {},
      "source": [
        "### Tratamentos Dos Dados\n",
        "\n",
        "- Como temos muitas colunas, nosso modelo pode acabar ficando muito lento.\n",
        "- Além disso, uma análise rápida permite ver que várias colunas não são necessárias para o nosso modelo de previsão, por isso, vamos excluir algumas colunas da nossa base\n",
        "- Tipos de colunas que vamos excluir:\n",
        "    1. IDs, Links e informações não relevantes para o modelo\n",
        "    2. Colunas repetidas ou extremamente parecidas com outra (que dão a mesma informação para o modelo. Ex: Data x Ano/Mês)\n",
        "    3. Colunas preenchidas com texto livre -> Não rodaremos nenhuma análise de palavras ou algo do tipo\n",
        "    4. Colunas em que todos ou quase todos os valores são iguais\n",
        "    \n",
        "- Para isso, vamos criar um arquivo em excel com os 1.000 primeiros registros e fazer uma análise qualitativa, olhando as colunas e identificando quais são desnecessárias"
      ]
    },
    {
      "cell_type": "code",
      "execution_count": null,
      "id": "e2a5f79f",
      "metadata": {},
      "outputs": [],
      "source": [
        "print(list(base_airbnb.columns))\n",
        "base_airbnb.head(1000).to_csv('primeiros_registros.csv', sep=';')"
      ]
    },
    {
      "cell_type": "markdown",
      "id": "6ae72a55",
      "metadata": {},
      "source": [
        "### Depois da análise qualitativa das colunas, levando em conta os critérios explicados acima, ficamos com as seguintes colunas:"
      ]
    },
    {
      "cell_type": "code",
      "execution_count": null,
      "id": "63c1a2df",
      "metadata": {},
      "outputs": [],
      "source": [
        "colunas = ['host_response_time','host_response_rate','host_is_superhost','host_listings_count','latitude','longitude','property_type','room_type','accommodates','bathrooms','bedrooms','beds','bed_type','amenities','price','security_deposit','cleaning_fee','guests_included','extra_people','minimum_nights','maximum_nights','number_of_reviews','review_scores_rating','review_scores_accuracy','review_scores_cleanliness','review_scores_checkin','review_scores_communication','review_scores_location','review_scores_value','instant_bookable','is_business_travel_ready','cancellation_policy','ano','mes']\n",
        "\n",
        "base_airbnb = base_airbnb.loc[:, colunas]\n",
        "print(list(base_airbnb.columns))\n",
        "display(base_airbnb)"
      ]
    },
    {
      "cell_type": "markdown",
      "id": "df5849cd",
      "metadata": {},
      "source": [
        "### Identificação de Valores Ausentes\n",
        "Verificamos a quantidade e a proporção de valores ausentes em cada coluna."
      ]
    },
    {
      "cell_type": "code",
      "execution_count": null,
      "id": "508636f9",
      "metadata": {},
      "outputs": [],
      "source": [
        "missing_values = base_airbnb.isnull().sum()\n",
        "missing_percent = (missing_values / len(df)) * 100\n",
        "\n",
        "missing_df = pd.DataFrame({\n",
        "    'Valores Ausentes': missing_values,\n",
        "    'Porcentagem (%)': missing_percent\n",
        "})\n",
        "\n",
        "missing_df = missing_df[missing_df['Valores Ausentes'] > 0].sort_values('Porcentagem (%)', ascending=False)\n",
        "missing_df['Porcentagem (%)'] = missing_df['Porcentagem (%)'].round(2)\n",
        "\n",
        "print(missing_df)\n"
      ]
    },
    {
      "cell_type": "markdown",
      "id": "1c7f8c58",
      "metadata": {},
      "source": [
        "### Tratamento de Valores Ausentes\n",
        "\n",
        "- Visualizando os dados, percebemos que existe uma grande disparidade em dados ausentes. As colunas com mais de 300.000 valores NaN foram excluídas da análise\n",
        "- Para as outras colunas, como temos muitos dados (mais de 900.000 linhas) vamos excluir as linhas que contém dados NaN"
      ]
    },
    {
      "cell_type": "code",
      "execution_count": null,
      "id": "faed1f05",
      "metadata": {},
      "outputs": [],
      "source": [
        "for coluna in base_airbnb:\n",
        "    if base_airbnb[coluna].isnull().sum() > 300000:\n",
        "        base_airbnb = base_airbnb.drop(coluna, axis=1)\n",
        "print(base_airbnb.isnull().sum())"
      ]
    },
    {
      "cell_type": "markdown",
      "id": "0d40a0be",
      "metadata": {},
      "source": [
        "### Exclusão de linhas"
      ]
    },
    {
      "cell_type": "code",
      "execution_count": null,
      "id": "a5316f7f",
      "metadata": {},
      "outputs": [],
      "source": [
        "base_airbnb = base_airbnb.dropna()\n",
        "\n",
        "print(base_airbnb.shape)\n",
        "print(base_airbnb.isnull().sum())"
      ]
    },
    {
      "cell_type": "markdown",
      "id": "9deaafe7",
      "metadata": {},
      "source": [
        "### Verificar Tipos de Dados em cada coluna\n",
        "\n",
        "- Precisamos fazer isso porque às vezes o Python está lendo como texto alguma coluna que deveria ser um número, então precisamos corrigir"
      ]
    },
    {
      "cell_type": "code",
      "execution_count": null,
      "id": "ca051372",
      "metadata": {},
      "outputs": [],
      "source": [
        "print(base_airbnb.dtypes)\n",
        "print('-'*60)\n",
        "print(base_airbnb.iloc[0])"
      ]
    },
    {
      "cell_type": "markdown",
      "id": "a7a10267",
      "metadata": {},
      "source": [
        "- Como preço e extra people estão sendo reconhecidos como objeto (ao invés de ser um float) temos que mudar o tipo de variável da coluna."
      ]
    },
    {
      "cell_type": "code",
      "execution_count": null,
      "id": "553f9764",
      "metadata": {},
      "outputs": [],
      "source": [
        "#price\n",
        "base_airbnb['price'] = base_airbnb['price'].str.replace('$', '')\n",
        "base_airbnb['price'] = base_airbnb['price'].str.replace(',', '')\n",
        "base_airbnb['price'] = base_airbnb['price'].astype(np.float32, copy=False)\n",
        "#extra people\n",
        "base_airbnb['extra_people'] = base_airbnb['extra_people'].str.replace('$', '')\n",
        "base_airbnb['extra_people'] = base_airbnb['extra_people'].str.replace(',', '')\n",
        "base_airbnb['extra_people'] = base_airbnb['extra_people'].astype(np.float32, copy=False)\n",
        "#verificando os tipos\n",
        "print(base_airbnb.dtypes)"
      ]
    },
    {
      "cell_type": "markdown",
      "id": "74413596",
      "metadata": {},
      "source": [
        "### Análise Exploratória e Tratamento de Outliers\n",
        "\n",
        "- Vamos analisar as features uma por uma para:\n",
        "\n",
        "  1. Ver a correlação entre as variáveis e decidir se todas serão mantidas no modelo.\n",
        "  2. Excluir outliers usando a regra: valores abaixo de **Q1 - 1.5 x Amplitude** ou acima de **Q3 + 1.5 x Amplitude** (Amplitude = Q3 - Q1).\n",
        "  3. Avaliar se cada feature realmente faz sentido no modelo ou se deve ser removida.\n",
        "\n",
        "- Começaremos pelas colunas **price** (nosso alvo) e **extra_people**, por serem valores numéricos contínuos.\n",
        "\n",
        "- Em seguida, vamos analisar as colunas com valores numéricos discretos como: `accommodates`, `bedrooms`, `guests_included`, etc.\n",
        "\n",
        "- Por fim, vamos avaliar as colunas com texto categórico e decidir quais categorias são relevantes para manter no modelo.\n"
      ]
    },
    {
      "cell_type": "code",
      "execution_count": null,
      "id": "95b47103",
      "metadata": {},
      "outputs": [],
      "source": [
        "# Select only numeric columns for correlation\n",
        "numeric_columns = base_airbnb.select_dtypes(include=['number'])\n",
        "\n",
        "plt.figure(figsize=(15, 10))\n",
        "sns.heatmap(numeric_columns.corr(), annot=True, cmap='Greens')\n",
        "plt.show()"
      ]
    },
    {
      "cell_type": "markdown",
      "id": "b04ed095",
      "metadata": {},
      "source": [
        "### Definição de Funções para Análise de Outliers\n",
        "\n",
        "Vamos definir algumas funções para ajudar na análise de outliers das colunas"
      ]
    },
    {
      "cell_type": "code",
      "execution_count": null,
      "id": "3589bb4f",
      "metadata": {},
      "outputs": [],
      "source": [
        "def limites(coluna):\n",
        "    \"\"\"\n",
        "    Calcula os limites inferior e superior para identificação de outliers usando o método do Intervalo Interquartil (IQR).\n",
        "    \n",
        "    Parameters:\n",
        "        coluna (pandas.Series): Série de dados numéricos para calcular os limites de outliers.\n",
        "        \n",
        "    Returns:\n",
        "        tuple: Um par de valores (limite_inferior, limite_superior) onde:\n",
        "            - limite_inferior: O valor abaixo do qual os dados são considerados outliers (Q1 - 1.5 * IQR)\n",
        "            - limite_superior: O valor acima do qual os dados são considerados outliers (Q3 + 1.5 * IQR)\n",
        "    \n",
        "    Exemplo:\n",
        "        >>> import pandas as pd\n",
        "        >>> dados = pd.Series([1, 2, 3, 4, 5, 20, 30])\n",
        "        >>> lim_inf, lim_sup = limites(dados)\n",
        "    \"\"\"\n",
        "    q1 = coluna.quantile(0.25)\n",
        "    q3 = coluna.quantile(0.75)\n",
        "    amplitude = q3 - q1\n",
        "    return q1 - 1.5 * amplitude, q3 + 1.5 * amplitude\n",
        "\n",
        "\n",
        "def excluir_outliers(df, nome_coluna):\n",
        "    \"\"\"\n",
        "    Remove linhas de um DataFrame que contêm outliers em uma coluna específica.\n",
        "    \n",
        "    Os outliers são determinados usando o método do Intervalo Interquartil (IQR),\n",
        "    onde valores fora do intervalo [Q1 - 1.5*IQR, Q3 + 1.5*IQR] são considerados outliers.\n",
        "    \n",
        "    Parameters:\n",
        "        df (pandas.DataFrame): DataFrame a ser filtrado.\n",
        "        nome_coluna (str): Nome da coluna na qual os outliers serão identificados.\n",
        "        \n",
        "    Returns:\n",
        "        tuple: Um par contendo:\n",
        "            - pandas.DataFrame: O DataFrame filtrado sem os outliers.\n",
        "            - int: Número de linhas removidas devido a outliers.\n",
        "    \n",
        "    \"\"\"\n",
        "    qtde_linhas = df.shape[0]\n",
        "    lim_inf, lim_sup = limites(df[nome_coluna])\n",
        "    df = df.loc[(df[nome_coluna] >= lim_inf) & (df[nome_coluna] <= lim_sup), :]\n",
        "    linhas_removidas = qtde_linhas - df.shape[0]\n",
        "    return df, linhas_removidas"
      ]
    },
    {
      "cell_type": "code",
      "execution_count": null,
      "id": "be669c41",
      "metadata": {},
      "outputs": [],
      "source": [
        "def diagrama_caixa(coluna):\n",
        "    \"\"\"\n",
        "    Cria dois boxplots lado a lado da mesma coluna, o segundo com limites\n",
        "    ajustados para melhor visualização de outliers.\n",
        "    \n",
        "    Parameters:\n",
        "        coluna (pandas.Series): Série de dados para visualização em boxplot.\n",
        "    \n",
        "    Returns:\n",
        "        None: Exibe o gráfico, mas não retorna valores.\n",
        "    \n",
        "    \"\"\"\n",
        "    fig, (ax1, ax2) = plt.subplots(1, 2)\n",
        "    fig.set_size_inches(15, 5)\n",
        "    sns.boxplot(x=coluna, ax=ax1)\n",
        "    ax2.set_xlim(limites(coluna))\n",
        "    sns.boxplot(x=coluna, ax=ax2)\n",
        "\n",
        "\n",
        "def histograma(coluna):\n",
        "    \"\"\"\n",
        "    Cria um histograma com curva de densidade para visualização da distribuição dos dados.\n",
        "    \n",
        "    Parameters:\n",
        "        coluna (pandas.Series): Série de dados para visualização em histograma.\n",
        "    \n",
        "    Returns:\n",
        "        None: Exibe o gráfico, mas não retorna valores.\n",
        "    \n",
        "    \"\"\"\n",
        "    plt.figure(figsize=(15, 5))\n",
        "    sns.histplot(coluna, kde=True)\n",
        "\n",
        "\n",
        "def grafico_barra(coluna):\n",
        "    \"\"\"\n",
        "    Cria um gráfico de barras mostrando a contagem de valores na coluna,\n",
        "    com os limites do eixo x ajustados para melhor visualização.\n",
        "    \n",
        "    Parameters:\n",
        "        coluna (pandas.Series): Série de dados para visualização em gráfico de barras.\n",
        "    \n",
        "    Returns:\n",
        "        None: Exibe o gráfico, mas não retorna valores.\n",
        "    \n",
        "    \"\"\"\n",
        "    plt.figure(figsize=(15, 5))\n",
        "    ax = sns.barplot(x=coluna.value_counts().index, y=coluna.value_counts())\n",
        "    ax.set_xlim(limites(coluna))"
      ]
    },
    {
      "cell_type": "markdown",
      "id": "552ba435",
      "metadata": {},
      "source": [
        "### Visualização de Outliers"
      ]
    },
    {
      "cell_type": "markdown",
      "id": "9d5f95bb",
      "metadata": {},
      "source": [
        "### price"
      ]
    },
    {
      "cell_type": "code",
      "execution_count": null,
      "id": "4411baff",
      "metadata": {},
      "outputs": [],
      "source": [
        "diagrama_caixa(base_airbnb['price'])\n",
        "histograma(base_airbnb['price'])"
      ]
    },
    {
      "cell_type": "markdown",
      "id": "fb0a3bce",
      "metadata": {},
      "source": [
        "Como estamos construindo um modelo para imóveis comuns, acredito que os valores acima do limite superior serão apenas de apartamentos de altíssimo luxo, que não é o nosso objetivo principal. Por isso, podemos excluir esses outliers."
      ]
    },
    {
      "cell_type": "code",
      "execution_count": null,
      "id": "844ceb9f",
      "metadata": {},
      "outputs": [],
      "source": [
        "base_airbnb, linhas_removidas = excluir_outliers(base_airbnb, 'price')\n",
        "print('{} linhas removidas'.format(linhas_removidas))"
      ]
    },
    {
      "cell_type": "code",
      "execution_count": null,
      "id": "c19a1dd0",
      "metadata": {},
      "outputs": [],
      "source": [
        "histograma(base_airbnb['price'])\n",
        "print(base_airbnb.shape)"
      ]
    },
    {
      "cell_type": "markdown",
      "id": "6c531127",
      "metadata": {},
      "source": [
        "### extra_people"
      ]
    },
    {
      "cell_type": "code",
      "execution_count": null,
      "id": "d1d533e9",
      "metadata": {},
      "outputs": [],
      "source": [
        "diagrama_caixa(base_airbnb['extra_people'])\n",
        "histograma(base_airbnb['extra_people'])"
      ]
    },
    {
      "cell_type": "code",
      "execution_count": null,
      "id": "e4719678",
      "metadata": {},
      "outputs": [],
      "source": [
        "base_airbnb, linhas_removidas = excluir_outliers(base_airbnb, 'extra_people')\n",
        "print('{} linhas removidas'.format(linhas_removidas))"
      ]
    },
    {
      "cell_type": "code",
      "execution_count": null,
      "id": "5ace6087",
      "metadata": {},
      "outputs": [],
      "source": [
        "histograma(base_airbnb['extra_people'])\n",
        "print(base_airbnb.shape)"
      ]
    },
    {
      "cell_type": "markdown",
      "id": "43b2a9df",
      "metadata": {},
      "source": [
        "### host_listings_count"
      ]
    },
    {
      "cell_type": "code",
      "execution_count": null,
      "id": "f367c8f2",
      "metadata": {},
      "outputs": [],
      "source": [
        "diagrama_caixa(base_airbnb['host_listings_count'])\n",
        "grafico_barra(base_airbnb['host_listings_count'])"
      ]
    },
    {
      "cell_type": "markdown",
      "id": "3b4b7313",
      "metadata": {},
      "source": [
        "Podemos excluir os outliers, porque para o objetivo do nosso projeto, hosts com mais de 6 imóveis no airbnb não é o público alvo do objetivo do projeto (imagino que sejam imobiliários ou profissionais que gerenciam imóveis no airbnb)"
      ]
    },
    {
      "cell_type": "code",
      "execution_count": null,
      "id": "1ea97cc9",
      "metadata": {},
      "outputs": [],
      "source": [
        "base_airbnb, linhas_removidas = excluir_outliers(base_airbnb, 'host_listings_count')\n",
        "print('{} linhas removidas'.format(linhas_removidas))"
      ]
    },
    {
      "cell_type": "markdown",
      "id": "68c2dc2d",
      "metadata": {},
      "source": [
        "### accommodates"
      ]
    },
    {
      "cell_type": "code",
      "execution_count": null,
      "id": "c62ee26a",
      "metadata": {},
      "outputs": [],
      "source": [
        "diagrama_caixa(base_airbnb['accommodates'])\n",
        "grafico_barra(base_airbnb['accommodates'])"
      ]
    },
    {
      "cell_type": "markdown",
      "id": "67394767",
      "metadata": {},
      "source": [
        "- Pelo mesmo motivo do \"host_listings_count\" vamos excluir os outliers dessa coluna porque apartamentos que acomodam mais de 9 pessoas não são o nosso foco, nosso objetivo aqui é para imóveis comuns.\n",
        "\n",
        "- Caso a gente quisesse incluir apartamentos de alto padrão a gente poderia manter essa variável ou então construir um modelo só focado em imóvei com mais de 9 hóspedes"
      ]
    },
    {
      "cell_type": "code",
      "execution_count": null,
      "id": "7cd45593",
      "metadata": {},
      "outputs": [],
      "source": [
        "base_airbnb, linhas_removidas = excluir_outliers(base_airbnb, 'accommodates')\n",
        "print('{} linhas removidas'.format(linhas_removidas))"
      ]
    },
    {
      "cell_type": "markdown",
      "id": "1a857e26",
      "metadata": {},
      "source": [
        "### bathrooms "
      ]
    },
    {
      "cell_type": "code",
      "execution_count": null,
      "id": "fdedd59d",
      "metadata": {},
      "outputs": [],
      "source": [
        "diagrama_caixa(base_airbnb['bathrooms'])\n",
        "plt.figure(figsize=(15, 5))\n",
        "sns.barplot(x=base_airbnb['bathrooms'].value_counts().index, y=base_airbnb['bathrooms'].value_counts())"
      ]
    },
    {
      "cell_type": "markdown",
      "id": "aec69e4f",
      "metadata": {},
      "source": [
        "- Pelo mesmo motivo dos anteriores, vamos excluir os outliers nos banheiros"
      ]
    },
    {
      "cell_type": "code",
      "execution_count": null,
      "id": "75db4d77",
      "metadata": {},
      "outputs": [],
      "source": [
        "base_airbnb, linhas_removidas = excluir_outliers(base_airbnb, 'bathrooms')\n",
        "print('{} linhas removidas'.format(linhas_removidas))"
      ]
    },
    {
      "cell_type": "markdown",
      "id": "3febefd9",
      "metadata": {},
      "source": [
        "### bedrooms"
      ]
    },
    {
      "cell_type": "code",
      "execution_count": null,
      "id": "4619269c",
      "metadata": {},
      "outputs": [],
      "source": [
        "diagrama_caixa(base_airbnb['bedrooms'])\n",
        "grafico_barra(base_airbnb['bedrooms'])"
      ]
    },
    {
      "cell_type": "markdown",
      "id": "9def43fc",
      "metadata": {},
      "source": [
        "- Pelo mesmo motivo dos anteriores, vamos excluir outliers em quantidade de quartos"
      ]
    },
    {
      "cell_type": "code",
      "execution_count": null,
      "id": "93867ed7",
      "metadata": {},
      "outputs": [],
      "source": [
        "base_airbnb, linhas_removidas = excluir_outliers(base_airbnb, 'bedrooms')\n",
        "print('{} linhas removidas'.format(linhas_removidas))"
      ]
    },
    {
      "cell_type": "markdown",
      "id": "e25c37ce",
      "metadata": {},
      "source": [
        "### beds"
      ]
    },
    {
      "cell_type": "code",
      "execution_count": null,
      "id": "1d623b94",
      "metadata": {},
      "outputs": [],
      "source": [
        "diagrama_caixa(base_airbnb['beds'])\n",
        "grafico_barra(base_airbnb['beds'])"
      ]
    },
    {
      "cell_type": "markdown",
      "id": "c1dabc2f",
      "metadata": {},
      "source": [
        "- Pelo mesmo motivo dos anteriores, vamos excluir outliers em quantidade de camas"
      ]
    },
    {
      "cell_type": "code",
      "execution_count": null,
      "id": "07a2f341",
      "metadata": {},
      "outputs": [],
      "source": [
        "base_airbnb, linhas_removidas = excluir_outliers(base_airbnb, 'beds')\n",
        "print('{} linhas removidas'.format(linhas_removidas))"
      ]
    },
    {
      "cell_type": "markdown",
      "id": "bbe07506",
      "metadata": {},
      "source": [
        "### guests_included"
      ]
    },
    {
      "cell_type": "code",
      "execution_count": null,
      "id": "ea636db3",
      "metadata": {},
      "outputs": [],
      "source": [
        "diagrama_caixa(base_airbnb['guests_included'])\n",
        "grafico_barra(base_airbnb['guests_included'])\n",
        "print(limites(base_airbnb['guests_included']))\n",
        "plt.figure(figsize=(15, 5))\n",
        "sns.barplot(x=base_airbnb['guests_included'].value_counts().index, y=base_airbnb['guests_included'].value_counts())"
      ]
    },
    {
      "cell_type": "markdown",
      "id": "723b6931",
      "metadata": {},
      "source": [
        "Vamos remover essa feature da análise. Parece que os usuários do airbnb usam muito o valor padrão do airbnb como 1 guest included. Isso pode levar o nosso modelo a considerar uma feature que na verdade não é essencial para a definição do preço, por isso, me parece melhor excluir a coluna da análise"
      ]
    },
    {
      "cell_type": "code",
      "execution_count": null,
      "id": "671cbc9a",
      "metadata": {},
      "outputs": [],
      "source": [
        "base_airbnb = base_airbnb.drop('guests_included', axis=1)\n",
        "base_airbnb.shape"
      ]
    },
    {
      "cell_type": "markdown",
      "id": "57ec34f4",
      "metadata": {},
      "source": [
        "### minimum_nights"
      ]
    },
    {
      "cell_type": "code",
      "execution_count": null,
      "id": "93116562",
      "metadata": {},
      "outputs": [],
      "source": [
        "diagrama_caixa(base_airbnb['minimum_nights'])\n",
        "grafico_barra(base_airbnb['minimum_nights'])"
      ]
    },
    {
      "cell_type": "markdown",
      "id": "df000838",
      "metadata": {},
      "source": [
        "- Aqui temos um motivo talvez até mais forte para excluir esses apartamentos da análise.\n",
        "\n",
        "- Estamos querendo um modelo que ajude a precificar apartamentos comuns como uma pessoa comum gostaria de disponibilizar. No caso, apartamentos com mais de 8 noites como o \"mínimo de noites\" podem ser apartamentos de temporada ou ainda apartamentos para morar, em que o host exige pelo menos 1 mês no apartamento.\n",
        "\n",
        "- Por isso, vamos excluir os outliers dessa coluna"
      ]
    },
    {
      "cell_type": "code",
      "execution_count": null,
      "id": "a2361318",
      "metadata": {},
      "outputs": [],
      "source": [
        "base_airbnb, linhas_removidas = excluir_outliers(base_airbnb, 'minimum_nights')\n",
        "print('{} linhas removidas'.format(linhas_removidas))"
      ]
    },
    {
      "cell_type": "markdown",
      "id": "6216fb34",
      "metadata": {},
      "source": [
        "### maximum_nights"
      ]
    },
    {
      "cell_type": "code",
      "execution_count": null,
      "id": "769c1867",
      "metadata": {},
      "outputs": [],
      "source": [
        "diagrama_caixa(base_airbnb['maximum_nights'])\n",
        "grafico_barra(base_airbnb['maximum_nights'])"
      ]
    },
    {
      "cell_type": "markdown",
      "id": "f1e719c8",
      "metadata": {},
      "source": [
        "- Essa coluna não parece que vai ajudar na análise.\n",
        "\n",
        "- Isso porque parece que quase todos os hosts não preenchem esse campo de maximum nights, então ele não parece que vai ser um fator relevante.\n",
        "\n",
        "- É melhor excluirmos essa coluna da análise"
      ]
    },
    {
      "cell_type": "code",
      "execution_count": null,
      "id": "8fc6b926",
      "metadata": {},
      "outputs": [],
      "source": [
        "base_airbnb = base_airbnb.drop('maximum_nights', axis=1)\n",
        "base_airbnb.shape"
      ]
    },
    {
      "cell_type": "markdown",
      "id": "065b7153",
      "metadata": {},
      "source": [
        "### number_of_reviews   "
      ]
    },
    {
      "cell_type": "code",
      "execution_count": null,
      "id": "3fa5d2c7",
      "metadata": {},
      "outputs": [],
      "source": [
        "diagrama_caixa(base_airbnb['number_of_reviews'])\n",
        "grafico_barra(base_airbnb['number_of_reviews'])"
      ]
    },
    {
      "cell_type": "markdown",
      "id": "b9d934ab",
      "metadata": {},
      "source": [
        "- Aqui poderíamos tomar algumas decisões diferentes. Eu vou optar por remover essa característica da análise com base em alguns pontos observados:\n",
        "\n",
        "  1. Se excluirmos os outliers, vamos acabar removendo os hosts com maior número de reviews — justamente os que mais alugam. Isso pode prejudicar o modelo.\n",
        "  2. Pensando no objetivo do projeto, se estou colocando meu imóvel agora no Airbnb, é natural que ele não tenha nenhum review ainda. Então remover essa variável pode inclusive ajudar na generalização do modelo.\n",
        "  3. Tenho dúvidas se essa variável deveria realmente influenciar o preço final, então prefiro não incluí-la nesse momento."
      ]
    },
    {
      "cell_type": "code",
      "execution_count": null,
      "id": "f8260be5",
      "metadata": {},
      "outputs": [],
      "source": [
        "base_airbnb = base_airbnb.drop('number_of_reviews', axis=1)\n",
        "base_airbnb.shape"
      ]
    },
    {
      "cell_type": "markdown",
      "id": "57e00ccf",
      "metadata": {},
      "source": [
        "### Tratamento de Colunas com Valores de Texto"
      ]
    },
    {
      "cell_type": "markdown",
      "id": "94250930",
      "metadata": {},
      "source": [
        "Funções para plotar gráficos e agrupar categorias"
      ]
    },
    {
      "cell_type": "code",
      "execution_count": null,
      "id": "3646c3db",
      "metadata": {},
      "outputs": [],
      "source": [
        "def plotar_contagem(coluna):\n",
        "    \"\"\"\n",
        "    Plota um gráfico de contagem para uma coluna especificada no DataFrame base_airbnb.\n",
        "\n",
        "    Parâmetros:\n",
        "        coluna (str): O nome da coluna a ser plotada.\n",
        "\n",
        "    Retorno:\n",
        "        None: Exibe um gráfico de contagem com a quantidade de cada valor único na coluna especificada.\n",
        "    \"\"\"\n",
        "    plt.figure(figsize=(15, 5))\n",
        "    sns.countplot(x=coluna, data=base_airbnb, hue=coluna, palette='pastel', legend=False)\n",
        "    plt.xticks(rotation=90)\n",
        "    plt.show()"
      ]
    },
    {
      "cell_type": "code",
      "execution_count": null,
      "id": "7fc0fa28",
      "metadata": {},
      "outputs": [],
      "source": [
        "def agrupar_categorias(coluna, limite, nome_agrupado='Outros'):\n",
        "    \"\"\"\n",
        "    Agrupa categorias com menos ocorrências que o limite em 'Outros'\n",
        "    \n",
        "    Parâmetros:\n",
        "    - coluna: Nome da coluna categórica a ser processada\n",
        "    - limite: Valor mínimo de ocorrências para manter a categoria separada\n",
        "    - nome_agrupado: Nome para as categorias agrupadas\n",
        "    \"\"\"\n",
        "\n",
        "    contagem = base_airbnb[coluna].value_counts()\n",
        "    agrupar = [tipo for tipo in contagem.index if contagem[tipo] < limite]\n",
        "\n",
        "    print(f'Categorias agrupadas: {agrupar}')\n",
        "    base_airbnb.loc[base_airbnb[coluna].isin(agrupar), coluna] = nome_agrupado\n",
        "\n",
        "    return base_airbnb[coluna].value_counts()"
      ]
    },
    {
      "cell_type": "code",
      "execution_count": null,
      "id": "bfb8e7c9",
      "metadata": {},
      "outputs": [],
      "source": [
        "print(base_airbnb['property_type'].value_counts())\n",
        "plotar_contagem('property_type')"
      ]
    },
    {
      "cell_type": "markdown",
      "id": "a6ef9b82",
      "metadata": {},
      "source": [
        "- Aqui não vou  \"excluir outliers\", mas sim agrupar valores que são muito pequenos.\n",
        "\n",
        "- Todos os tipos de propriedade que têm menos de 2.000 propriedades na base de dados, eu vou agrupar em um grupo chamado \"outros\". Acho que isso vai facilitar o nosso modelo"
      ]
    },
    {
      "cell_type": "code",
      "execution_count": null,
      "id": "5a50135f",
      "metadata": {},
      "outputs": [],
      "source": [
        "agrupar_categorias('property_type', 2000, 'Outros')\n",
        "\n",
        "print(base_airbnb['property_type'].value_counts())\n",
        "plotar_contagem('property_type')"
      ]
    },
    {
      "cell_type": "code",
      "execution_count": null,
      "id": "658a10aa",
      "metadata": {},
      "outputs": [],
      "source": [
        "print(base_airbnb['property_type'].value_counts())\n",
        "plotar_contagem('property_type')"
      ]
    },
    {
      "cell_type": "markdown",
      "id": "e42df8f4",
      "metadata": {},
      "source": [
        "### - room_type "
      ]
    },
    {
      "cell_type": "code",
      "execution_count": null,
      "id": "566faf11",
      "metadata": {},
      "outputs": [],
      "source": [
        "print(base_airbnb['room_type'].value_counts())\n",
        "plotar_contagem('room_type')"
      ]
    },
    {
      "cell_type": "markdown",
      "id": "b8564043",
      "metadata": {},
      "source": [
        "Em tipo de quarto, não precisamos fazer nada, ele já parece estar bem distribuído"
      ]
    },
    {
      "cell_type": "markdown",
      "id": "d723e620",
      "metadata": {},
      "source": [
        "### - bed_type "
      ]
    },
    {
      "cell_type": "code",
      "execution_count": null,
      "id": "c024c512",
      "metadata": {},
      "outputs": [],
      "source": [
        "print(base_airbnb['bed_type'].value_counts())\n",
        "plotar_contagem('bed_type')"
      ]
    },
    {
      "cell_type": "markdown",
      "id": "5c9fb17f",
      "metadata": {},
      "source": [
        "- Aqui a nossa ação não é \"excluir outliers\", mas sim agrupar valores que são muito pequenos.\n",
        "\n",
        "- Como temos 1 valor claramente MUITO maior do que todos os outros, vou criar apenas 2 grupos de camas: \"Real Bed\" e \"outros\"\n",
        "\n",
        "Isso vai simplificar o modelo"
      ]
    },
    {
      "cell_type": "code",
      "execution_count": null,
      "id": "53757563",
      "metadata": {},
      "outputs": [],
      "source": [
        "agrupar_categorias('bed_type', 10000, 'Outros')\n",
        "print(base_airbnb['bed_type'].value_counts())\n",
        "plotar_contagem('bed_type')"
      ]
    },
    {
      "cell_type": "markdown",
      "id": "c1180be7",
      "metadata": {},
      "source": [
        "### - cancellation_policy "
      ]
    },
    {
      "cell_type": "code",
      "execution_count": null,
      "id": "7d85f1e6",
      "metadata": {},
      "outputs": [],
      "source": [
        "print(base_airbnb['cancellation_policy'].value_counts())\n",
        "plotar_contagem('cancellation_policy')"
      ]
    },
    {
      "cell_type": "code",
      "execution_count": null,
      "id": "41912c11",
      "metadata": {},
      "outputs": [],
      "source": [
        "agrupar_categorias('cancellation_policy', 10000, 'Outros')\n",
        "print(base_airbnb['cancellation_policy'].value_counts())\n",
        "plotar_contagem('cancellation_policy') "
      ]
    },
    {
      "cell_type": "markdown",
      "id": "429623a4",
      "metadata": {},
      "source": [
        "### - amenities \n",
        "\n",
        "Como temos uma diversidade muito grande de amenities e, às vezes, as mesmas amenities podem ser escritas de forma diferente, vamos avaliar a quantidade de amenities como o parâmetro para o nosso modelo."
      ]
    },
    {
      "cell_type": "code",
      "execution_count": null,
      "id": "4f5bcecf",
      "metadata": {},
      "outputs": [],
      "source": [
        "print(base_airbnb['amenities'].iloc[1].split(','))\n",
        "print(len(base_airbnb['amenities'].iloc[1].split(',')))\n"
      ]
    },
    {
      "cell_type": "markdown",
      "id": "89bd239e",
      "metadata": {},
      "source": [
        "Transformação da coluna amenities em valor númerico e exclusão da antiga, assim com nas outras colunas de valores numéricos, eu exclui outliers."
      ]
    },
    {
      "cell_type": "code",
      "execution_count": null,
      "id": "529f9f0f",
      "metadata": {},
      "outputs": [],
      "source": [
        "base_airbnb['n_amenities'] = base_airbnb['amenities'].str.split(',').apply(len)\n",
        "base_airbnb = base_airbnb.drop('amenities', axis=1)\n",
        "base_airbnb.shape"
      ]
    },
    {
      "cell_type": "code",
      "execution_count": null,
      "id": "bf4e94e9",
      "metadata": {},
      "outputs": [],
      "source": [
        "diagrama_caixa(base_airbnb['n_amenities'])\n",
        "grafico_barra(base_airbnb['n_amenities'])"
      ]
    },
    {
      "cell_type": "code",
      "execution_count": null,
      "id": "42fb0125",
      "metadata": {},
      "outputs": [],
      "source": [
        "base_airbnb, linhas_removidas = excluir_outliers(base_airbnb, 'n_amenities')\n",
        "print('{} linhas removidas'.format(linhas_removidas))"
      ]
    },
    {
      "cell_type": "markdown",
      "id": "bbe7ed28",
      "metadata": {},
      "source": [
        "### Visualização de Mapa das Propriedades\n",
        "Criação de um mapa que exibe uma maostra da nossa base de dados aleatório (50.000 propriedades) para ver como as propriedades estão distribuídas pela cidade e também identificar os locais de maior preço"
      ]
    },
    {
      "cell_type": "code",
      "execution_count": null,
      "id": "93e71ab2",
      "metadata": {},
      "outputs": [],
      "source": [
        "amostra = base_airbnb.sample(n=50000)\n",
        "centro_mapa = {'lat': amostra.latitude.mean(), 'lon': amostra.longitude.mean()}\n",
        "\n",
        "mapa = px.density_map(\n",
        "    amostra,\n",
        "    lat='latitude',\n",
        "    lon='longitude',\n",
        "    z='price',\n",
        "    radius=2.5,\n",
        "    center=centro_mapa,\n",
        "    zoom=10,\n",
        "    map_style=\"open-street-map\"  # novo formato de estilo\n",
        ")\n",
        "\n",
        "mapa.show()\n"
      ]
    },
    {
      "cell_type": "markdown",
      "id": "e947c18e",
      "metadata": {},
      "source": [
        "### Encoding\n",
        "\n",
        "Precisamor Ajustar as features para facilitar o trabalho do modelo futuro (features de categoria, true e false, etc.)\n",
        "\n",
        "- Features de Valores True ou False, vamos substituir True por 1 e False por 0.\n",
        "- Features de Categoria (features em que os valores da coluna são textos) vamos utilizar o método de encoding de variáveis dummies"
      ]
    },
    {
      "cell_type": "code",
      "execution_count": null,
      "id": "338b143e",
      "metadata": {},
      "outputs": [],
      "source": [
        "colunas_tf = ['host_is_superhost', 'instant_bookable', 'is_business_travel_ready']\n",
        "base_airbnb_cod = base_airbnb.copy()\n",
        "for coluna in colunas_tf:\n",
        "    base_airbnb_cod.loc[base_airbnb_cod[coluna]=='t', coluna] = 1\n",
        "    base_airbnb_cod.loc[base_airbnb_cod[coluna]=='f', coluna] = 0"
      ]
    },
    {
      "cell_type": "code",
      "execution_count": null,
      "id": "9fd0dfc9",
      "metadata": {},
      "outputs": [],
      "source": [
        "colunas_categorias = ['property_type', 'room_type', 'bed_type', 'cancellation_policy']\n",
        "base_airbnb_cod = pd.get_dummies(data=base_airbnb_cod, columns=colunas_categorias)\n",
        "display(base_airbnb_cod.head())"
      ]
    },
    {
      "cell_type": "markdown",
      "id": "631ab2c6",
      "metadata": {},
      "source": [
        "### Modelo de Previsão"
      ]
    },
    {
      "cell_type": "markdown",
      "id": "3dc507bb",
      "metadata": {},
      "source": [
        "- Métricas de Avaliação\n",
        "\n",
        "Vamos usar aqui o R² que vai nos dizer o quão bem o nosso modelo consegue explicar o preço. Isso seria um ótimo parâmetro para ver o quão bom é nosso modelo <br>\n",
        "-> Quanto mais próximo de 100%, melhor\n",
        "\n",
        "Vou calcular também o Erro Quadrático Médio, que vai mostrar para gente o quanto o nosso modelo está errando. <br>\n",
        "-> Quanto menor for o erro, melhor"
      ]
    },
    {
      "cell_type": "code",
      "execution_count": null,
      "id": "bb187e61",
      "metadata": {},
      "outputs": [],
      "source": [
        "def avaliar_modelo(nome_modelo, y_teste, previsao):\n",
        "    r2 = r2_score(y_teste, previsao)\n",
        "    RMSE = np.sqrt(mean_squared_error(y_teste, previsao))\n",
        "    return f'Modelo {nome_modelo}:\\nR²:{r2:.2%}\\nRMSE:{RMSE:.2f}'"
      ]
    },
    {
      "cell_type": "markdown",
      "id": "985bbddd",
      "metadata": {},
      "source": [
        "- Escolha dos Modelos a Serem Testados\n",
        "    1. RandomForest\n",
        "    2. LinearRegression\n",
        "    3. Extra Tree\n",
        "    \n",
        "Esses são alguns dos modelos que existem para fazer previsão de valores numéricos (o que chamamos de regressão). Estamos querendo calcular o preço, portanto, queremos prever um valor numérico.\n"
      ]
    },
    {
      "cell_type": "code",
      "execution_count": null,
      "id": "09e14171",
      "metadata": {},
      "outputs": [],
      "source": [
        "modelo_rf = RandomForestRegressor()\n",
        "modelo_lr = LinearRegression()\n",
        "modelo_et = ExtraTreesRegressor()\n",
        "\n",
        "modelos = {'RandomForest': modelo_rf,\n",
        "          'LinearRegression': modelo_lr,\n",
        "          'ExtraTrees': modelo_et,\n",
        "          }\n",
        "\n",
        "y = base_airbnb_cod['price']\n",
        "X = base_airbnb_cod.drop('price', axis=1)"
      ]
    },
    {
      "cell_type": "markdown",
      "id": "eeb68269",
      "metadata": {},
      "source": [
        "# Treinamento e Avaliação dos Modelos\n",
        "\n",
        "Agora vamos separar nossos dados em duas partes:\n",
        "\n",
        "**Treino**: onde o modelo vai \"aprender\"\n",
        "\n",
        "**Teste**: onde vamos avaliar o desempenho do modelo com dados que ele nunca viu antes\n",
        "\n",
        "Usamos o `train_test_split` do `sklearn` para fazer essa divisão. A ideia é garantir que os dados de teste sejam usados somente no final, para avaliar o quão bem o modelo se comporta com novos dados"
      ]
    },
    {
      "cell_type": "code",
      "execution_count": null,
      "id": "bab8d73c",
      "metadata": {},
      "outputs": [],
      "source": [
        "X_train, X_test, y_train, y_test = train_test_split(X, y, random_state=10)\n",
        "\n",
        "for nome_modelo, modelo in modelos.items():\n",
        "    #treinar\n",
        "    modelo.fit(X_train, y_train)\n",
        "    #testar\n",
        "    previsao = modelo.predict(X_test)\n",
        "    print(avaliar_modelo(nome_modelo, y_test, previsao))"
      ]
    },
    {
      "cell_type": "markdown",
      "id": "dfee0102",
      "metadata": {},
      "source": [
        "- Modelo Escolhido como Melhor Modelo: ExtraTressRegressor\n",
        "\n",
        "    Esse foi o modelo com maior valor de R² e ao mesmo tempo o menor valor de RSME. Como não tivemos uma grande diferença de velocidade de treino e de previsão desse modelo com o modelo de RandomForest (que teve resultados próximos de R² e RSME), vamos escolher o Modelo ExtraTrees.\n",
        "    \n",
        "    O modelo de regressão linear não obteve um resultado satisfatório, com valores de R² e RSME muito piores do que os outros 2 modelos.\n",
        "    \n",
        "- Resultados das Métricas de Avaliaçõ no Modelo Vencedor:<br>\n",
        "Modelo ExtraTrees:<br>\n",
        "R²:97.51%<br>\n",
        "RSME:41.88"
      ]
    },
    {
      "cell_type": "markdown",
      "id": "40dfa763",
      "metadata": {},
      "source": [
        "### Ajustes e Melhorias no Melhor Modelo"
      ]
    },
    {
      "cell_type": "code",
      "execution_count": null,
      "id": "59176db3",
      "metadata": {},
      "outputs": [],
      "source": [
        "print(modelo_et.feature_importances_)\n",
        "print(X_train.columns)\n",
        "importancia_features = pd.DataFrame(modelo_et.feature_importances_, X_train.columns)\n",
        "importancia_features = importancia_features.sort_values(by=0, ascending=False)\n",
        "display(importancia_features)\n",
        "plt.figure(figsize=(15, 5))\n",
        "ax = sns.barplot(x=importancia_features.index, y=importancia_features[0])\n",
        "ax.tick_params(axis='x', rotation=90)"
      ]
    },
    {
      "cell_type": "markdown",
      "id": "92b0f44f",
      "metadata": {},
      "source": [
        "### Ajustes Finais no Modelo\n",
        "\n",
        "- is_business_travel ready não parece ter muito impacto no nosso modelo. Por isso, para chegar em um modelo mais simples, vamos excluir essa feature e testar o modelo sem ela."
      ]
    },
    {
      "cell_type": "code",
      "execution_count": null,
      "id": "0cce5d02",
      "metadata": {},
      "outputs": [],
      "source": [
        "base_airbnb_cod = base_airbnb_cod.drop('is_business_travel_ready', axis=1)\n",
        "\n",
        "y = base_airbnb_cod['price']\n",
        "X = base_airbnb_cod.drop('price', axis=1)\n",
        "\n",
        "X_train, X_test, y_train, y_test = train_test_split(X, y, random_state=10)\n",
        "\n",
        "modelo_et.fit(X_train, y_train)\n",
        "previsao = modelo_et.predict(X_test)\n",
        "print(avaliar_modelo('ExtraTrees', y_test, previsao))"
      ]
    },
    {
      "cell_type": "markdown",
      "id": "27f4ae33",
      "metadata": {},
      "source": [
        "Vamos testar como o modelo se comporta sem a variável bed_type. Para isso, vamos:\n",
        "\n",
        "1. Criar uma cópia da base original:\n",
        "Evita que alterações interfiram em outras análises.\n",
        "\n",
        "2. Remover colunas relacionadas ao bed_type:\n",
        "Queremos analisar se essa variável realmente impacta nas previsões.\n",
        "\n",
        "3. Separar variáveis dependente e independentes:\n",
        "X com as features, y com o price.\n",
        "\n",
        "4. Dividir entre treino e teste com train_test_split:\n",
        "Isso garante que o modelo seja avaliado apenas com dados que ele ainda não viu."
      ]
    },
    {
      "cell_type": "code",
      "execution_count": null,
      "id": "9fa85a9c",
      "metadata": {},
      "outputs": [],
      "source": [
        "base_teste = base_airbnb_cod.copy()\n",
        "for coluna in base_teste:\n",
        "    if 'bed_type' in coluna:    \n",
        "        base_teste = base_teste.drop(coluna, axis=1)\n",
        "print(base_teste.columns)\n",
        "y = base_teste['price']\n",
        "X = base_teste.drop('price', axis=1)\n",
        "\n",
        "X_train, X_test, y_train, y_test = train_test_split(X, y, random_state=10)\n",
        "\n",
        "modelo_et.fit(X_train, y_train)\n",
        "previsao = modelo_et.predict(X_test)\n",
        "print(avaliar_modelo('ExtraTrees', y_test, previsao))"
      ]
    },
    {
      "cell_type": "markdown",
      "id": "c3d85edb",
      "metadata": {},
      "source": [
        "# Deploy do Projeto\n",
        "\n",
        "- Passo 1 -> Criar arquivo do Modelo (joblib)<br>\n",
        "- Passo 2 -> Escolher a forma de deploy:\n",
        "    - Deploy apenas para uso direto Streamlit\n",
        "- Passo 3 -> Outro arquivo Python (pode ser Jupyter ou PyCharm)\n",
        "- Passo 4 -> Importar streamlit e criar código\n",
        "- Passo 5 -> Atribuir ao botão o carregamento do modelo\n",
        "- Passo 6 -> Deploy feito"
      ]
    },
    {
      "cell_type": "markdown",
      "id": "e2ff493d",
      "metadata": {},
      "source": [
        "### Exportando os Dados para CSV\n",
        "\n",
        "Após todas as transformações e tratamentos, é interessante salvar o conjunto final para uso posterior, sem precisar repetir todo o processo de preparação.\n",
        "\n",
        "Vamos fazer isso com o to_csv do pandas:\n",
        "\n",
        "1. Inserir novamente a coluna price ao final do DataFrame:\n",
        "Essa coluna foi separada como variável-alvo (y), mas agora será reinserida antes da exportação.\n",
        "\n",
        "2. Salvar o DataFrame como um arquivo .csv:\n",
        "Assim, garantimos que os dados preparados fiquem salvos em um formato simples e reutilizável."
      ]
    },
    {
      "cell_type": "code",
      "execution_count": null,
      "id": "8787366a",
      "metadata": {},
      "outputs": [],
      "source": [
        "X['price'] = y\n",
        "X.to_csv('dados.csv')"
      ]
    },
    {
      "cell_type": "markdown",
      "id": "b7459fef",
      "metadata": {},
      "source": [
        "Depois de treinar e avaliar o modelo, é interessante salvá-lo para que possamos utilizá-lo futuramente sem precisar recomeçar o treinamento do zero.\n",
        "\n",
        "Vamos usar a biblioteca joblib, que é muito eficiente para salvar modelos de machine learning, assim o modelo modelo_et será salvo em um arquivo chamado modelo.joblib, pronto para ser carregado e usado a qualquer momento."
      ]
    },
    {
      "cell_type": "code",
      "execution_count": null,
      "id": "db5e7a5c",
      "metadata": {},
      "outputs": [],
      "source": [
        "import joblib\n",
        "joblib.dump(modelo_et, 'modelo.joblib')"
      ]
    }
  ],
  "metadata": {
    "kernelspec": {
      "display_name": ".venv",
      "language": "python",
      "name": "python3"
    },
    "language_info": {
      "codemirror_mode": {
        "name": "ipython",
        "version": 3
      },
      "file_extension": ".py",
      "mimetype": "text/x-python",
      "name": "python",
      "nbconvert_exporter": "python",
      "pygments_lexer": "ipython3",
      "version": "3.12.9"
    }
  },
  "nbformat": 4,
  "nbformat_minor": 5
}
