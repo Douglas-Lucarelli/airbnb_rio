{
 "cells": [
  {
   "cell_type": "code",
   "execution_count": null,
   "id": "d64a8aee",
   "metadata": {},
   "outputs": [],
   "source": [
    "%pip install jupyter\n"
   ]
  },
  {
   "cell_type": "markdown",
   "id": "786ed00b",
   "metadata": {},
   "source": [
    "# Projeto Airbnb Rio - Ferramenta de Previsão de Preço de Imóvel para pessoas comuns "
   ]
  },
  {
   "cell_type": "markdown",
   "id": "d9a7758e",
   "metadata": {},
   "source": [
    "### Contexto\n",
    "\n",
    "No Airbnb, qualquer pessoa que tenha um quarto ou um imóvel de qualquer tipo (apartamento, casa, chalé, pousada, etc.) pode ofertar o seu imóvel para ser alugado por diária.\n",
    "\n",
    "Você cria o seu perfil de host (pessoa que disponibiliza um imóvel para aluguel por diária) e cria o anúncio do seu imóvel.\n",
    "\n",
    "Nesse anúncio, o host deve descrever as características do imóvel da forma mais completa possível, de forma a ajudar os locadores/viajantes a escolherem o melhor imóvel para eles (e de forma a tornar o seu anúncio mais atrativo)\n",
    "\n",
    "Existem dezenas de personalizações possíveis no seu anúncio, desde quantidade mínima de diária, preço, quantidade de quartos, até regras de cancelamento, taxa extra para hóspedes extras, exigência de verificação de identidade do locador, etc.\n",
    "\n",
    "### Nosso objetivo\n",
    "\n",
    "Construir um modelo de previsão de preço que permita uma pessoa comum que possui um imóvel possa saber quanto deve cobrar pela diária do seu imóvel.\n",
    "\n",
    "Ou ainda, para o locador comum, dado o imóvel que ele está buscando, ajudar a saber se aquele imóvel está com preço atrativo (abaixo da média para imóveis com as mesmas características) ou não.\n",
    "\n",
    "### O que temos disponível, inspirações e créditos\n",
    "\n",
    "As bases de dados foram retiradas do site kaggle: https://www.kaggle.com/allanbruno/airbnb-rio-de-janeiro\n",
    "\n",
    "Elas estão disponíveis para download abaixo da aula (se você puxar os dados direto do Kaggle pode ser que encontre resultados diferentes dos meus, afinal as bases de dados podem ter sido atualizadas).\n",
    "\n",
    "Caso queira uma outra solução, podemos olhar como referência a solução do usuário Allan Bruno do kaggle no Notebook: https://www.kaggle.com/allanbruno/helping-regular-people-price-listings-on-airbnb\n",
    "\n",
    "Você vai perceber semelhanças entre a solução que vamos desenvolver aqui e a dele, mas também algumas diferenças significativas no processo de construção do projeto.\n",
    "\n",
    "- As bases de dados são os preços dos imóveis obtidos e suas respectivas características em cada mês.\n",
    "- Os preços são dados em reais (R$)\n",
    "- Temos bases de abril de 2018 a maio de 2020, com exceção de junho de 2018 que não possui base de dados\n",
    "\n",
    "### Expectativas Iniciais\n",
    "\n",
    "- Acredito que a sazonalidade pode ser um fator importante, visto que meses como dezembro costumam ser bem caros no RJ\n",
    "- A localização do imóvel deve fazer muita diferença no preço, já que no Rio de Janeiro a localização pode mudar completamente as características do lugar (segurança, beleza natural, pontos turísticos)\n",
    "- Adicionais/Comodidades podem ter um impacto significativo, visto que temos muitos prédios e casas antigos no Rio de Janeiro\n",
    "\n",
    "Vamos descobrir o quanto esses fatores impactam e se temos outros fatores não tão intuitivos que são extremamente importantes."
   ]
  },
  {
   "cell_type": "markdown",
   "id": "e04ac051",
   "metadata": {},
   "source": [
    "## Instalação das Bibliotecas"
   ]
  },
  {
   "cell_type": "code",
   "execution_count": 4,
   "id": "aea8fb6c",
   "metadata": {},
   "outputs": [
    {
     "name": "stdout",
     "output_type": "stream",
     "text": [
      "Requirement already satisfied: matplotlib in c:\\users\\dougl\\projetos\\airbnb_rio\\.venv\\lib\\site-packages (3.10.1)\n",
      "Requirement already satisfied: pandas in c:\\users\\dougl\\projetos\\airbnb_rio\\.venv\\lib\\site-packages (2.2.3)\n",
      "Requirement already satisfied: numpy in c:\\users\\dougl\\projetos\\airbnb_rio\\.venv\\lib\\site-packages (2.2.4)\n",
      "Requirement already satisfied: seaborn in c:\\users\\dougl\\projetos\\airbnb_rio\\.venv\\lib\\site-packages (0.13.2)\n",
      "Requirement already satisfied: scikit-learn in c:\\users\\dougl\\projetos\\airbnb_rio\\.venv\\lib\\site-packages (1.6.1)\n",
      "Requirement already satisfied: statsmodels in c:\\users\\dougl\\projetos\\airbnb_rio\\.venv\\lib\\site-packages (0.14.4)\n",
      "Collecting plotly\n",
      "  Using cached plotly-6.0.1-py3-none-any.whl.metadata (6.7 kB)\n",
      "Requirement already satisfied: contourpy>=1.0.1 in c:\\users\\dougl\\projetos\\airbnb_rio\\.venv\\lib\\site-packages (from matplotlib) (1.3.1)\n",
      "Requirement already satisfied: cycler>=0.10 in c:\\users\\dougl\\projetos\\airbnb_rio\\.venv\\lib\\site-packages (from matplotlib) (0.12.1)\n",
      "Requirement already satisfied: fonttools>=4.22.0 in c:\\users\\dougl\\projetos\\airbnb_rio\\.venv\\lib\\site-packages (from matplotlib) (4.57.0)\n",
      "Requirement already satisfied: kiwisolver>=1.3.1 in c:\\users\\dougl\\projetos\\airbnb_rio\\.venv\\lib\\site-packages (from matplotlib) (1.4.8)\n",
      "Requirement already satisfied: packaging>=20.0 in c:\\users\\dougl\\projetos\\airbnb_rio\\.venv\\lib\\site-packages (from matplotlib) (24.2)\n",
      "Requirement already satisfied: pillow>=8 in c:\\users\\dougl\\projetos\\airbnb_rio\\.venv\\lib\\site-packages (from matplotlib) (11.1.0)\n",
      "Requirement already satisfied: pyparsing>=2.3.1 in c:\\users\\dougl\\projetos\\airbnb_rio\\.venv\\lib\\site-packages (from matplotlib) (3.2.3)\n",
      "Requirement already satisfied: python-dateutil>=2.7 in c:\\users\\dougl\\projetos\\airbnb_rio\\.venv\\lib\\site-packages (from matplotlib) (2.9.0.post0)\n",
      "Requirement already satisfied: pytz>=2020.1 in c:\\users\\dougl\\projetos\\airbnb_rio\\.venv\\lib\\site-packages (from pandas) (2025.2)\n",
      "Requirement already satisfied: tzdata>=2022.7 in c:\\users\\dougl\\projetos\\airbnb_rio\\.venv\\lib\\site-packages (from pandas) (2025.2)\n",
      "Requirement already satisfied: scipy>=1.6.0 in c:\\users\\dougl\\projetos\\airbnb_rio\\.venv\\lib\\site-packages (from scikit-learn) (1.15.2)\n",
      "Requirement already satisfied: joblib>=1.2.0 in c:\\users\\dougl\\projetos\\airbnb_rio\\.venv\\lib\\site-packages (from scikit-learn) (1.4.2)\n",
      "Requirement already satisfied: threadpoolctl>=3.1.0 in c:\\users\\dougl\\projetos\\airbnb_rio\\.venv\\lib\\site-packages (from scikit-learn) (3.6.0)\n",
      "Requirement already satisfied: patsy>=0.5.6 in c:\\users\\dougl\\projetos\\airbnb_rio\\.venv\\lib\\site-packages (from statsmodels) (1.0.1)\n",
      "Collecting narwhals>=1.15.1 (from plotly)\n",
      "  Downloading narwhals-1.34.0-py3-none-any.whl.metadata (9.2 kB)\n",
      "Requirement already satisfied: six>=1.5 in c:\\users\\dougl\\projetos\\airbnb_rio\\.venv\\lib\\site-packages (from python-dateutil>=2.7->matplotlib) (1.17.0)\n",
      "Using cached plotly-6.0.1-py3-none-any.whl (14.8 MB)\n",
      "Downloading narwhals-1.34.0-py3-none-any.whl (325 kB)\n",
      "Installing collected packages: narwhals, plotly\n",
      "Successfully installed narwhals-1.34.0 plotly-6.0.1\n",
      "Note: you may need to restart the kernel to use updated packages.\n"
     ]
    }
   ],
   "source": [
    "%pip install matplotlib pandas numpy seaborn scikit-learn statsmodels plotly"
   ]
  },
  {
   "cell_type": "markdown",
   "id": "5a6dd20f",
   "metadata": {},
   "source": [
    "### Importar Bibliotecas e Bases de Dados"
   ]
  },
  {
   "cell_type": "code",
   "execution_count": 6,
   "id": "72faea73",
   "metadata": {},
   "outputs": [],
   "source": [
    "import pandas as pd\n",
    "import pathlib\n",
    "import numpy as np\n",
    "import seaborn as sns\n",
    "import matplotlib.pyplot as plt\n",
    "import plotly.express as px\n",
    "from sklearn.metrics import r2_score, mean_squared_error\n",
    "from sklearn.linear_model import LinearRegression\n",
    "from sklearn.ensemble import RandomForestRegressor, ExtraTreesRegressor\n",
    "from sklearn.model_selection import train_test_split"
   ]
  },
  {
   "cell_type": "markdown",
   "id": "037b2d7e",
   "metadata": {},
   "source": [
    "### Consolidação da Base de Dados"
   ]
  },
  {
   "cell_type": "markdown",
   "id": "3dbf8e9c",
   "metadata": {},
   "source": [
    "Este código combina múltiplos arquivos CSV de dados do Airbnb em um único DataFrame, adicionando informações de mês e ano extraídas dos nomes dos arquivos."
   ]
  },
  {
   "cell_type": "code",
   "execution_count": null,
   "id": "508a0f04",
   "metadata": {},
   "outputs": [],
   "source": [
    "meses = {'jan': 1, 'fev': 2, 'mar': 3, 'abr': 4, \"mai\": 5, 'jun': 6, 'jul': 7, 'ago': 8, 'set': 9, 'out': 10, 'nov': 11, 'dez': 12}\n",
    "\n",
    "caminho_bases = pathlib.Path('dataset')\n",
    "\n",
    "base_airbnb = pd.DataFrame()\n",
    "\n",
    "for arquivo in caminho_bases.iterdir(): \n",
    "    nome_mes = arquivo.name[:3]\n",
    "    mes = meses[nome_mes]\n",
    "\n",
    "    ano = arquivo.name[-8:]\n",
    "    ano = int(ano.replace('.csv', ''))\n",
    "\n",
    "    df = pd.read_csv(caminho_bases / arquivo.name)\n",
    "    df['ano'] = ano\n",
    "    df['mes'] = mes\n",
    "    base_airbnb = pd.concat([base_airbnb, df])\n",
    "\n",
    "display(base_airbnb)"
   ]
  },
  {
   "cell_type": "markdown",
   "id": "91c056dd",
   "metadata": {},
   "source": [
    "### Agora vamos começar os tratamentos\n",
    "\n",
    "- Como temos muitas colunas, nosso modelo pode acabar ficando muito lento.\n",
    "- Além disso, uma análise rápida permite ver que várias colunas não são necessárias para o nosso modelo de previsão, por isso, vamos excluir algumas colunas da nossa base\n",
    "- Tipos de colunas que vamos excluir:\n",
    "    1. IDs, Links e informações não relevantes para o modelo\n",
    "    2. Colunas repetidas ou extremamente parecidas com outra (que dão a mesma informação para o modelo. Ex: Data x Ano/Mês)\n",
    "    3. Colunas preenchidas com texto livre -> Não rodaremos nenhuma análise de palavras ou algo do tipo\n",
    "    4. Colunas em que todos ou quase todos os valores são iguais\n",
    "    \n",
    "- Para isso, vamos criar um arquivo em excel com os 1.000 primeiros registros e fazer uma análise qualitativa, olhando as colunas e identificando quais são desnecessárias"
   ]
  },
  {
   "cell_type": "markdown",
   "id": "72ea61ae",
   "metadata": {},
   "source": []
  }
 ],
 "metadata": {
  "kernelspec": {
   "display_name": ".venv",
   "language": "python",
   "name": "python3"
  },
  "language_info": {
   "codemirror_mode": {
    "name": "ipython",
    "version": 3
   },
   "file_extension": ".py",
   "mimetype": "text/x-python",
   "name": "python",
   "nbconvert_exporter": "python",
   "pygments_lexer": "ipython3",
   "version": "3.12.9"
  }
 },
 "nbformat": 4,
 "nbformat_minor": 5
}
